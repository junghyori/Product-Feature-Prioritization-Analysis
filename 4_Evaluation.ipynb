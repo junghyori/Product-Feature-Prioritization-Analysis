{
 "cells": [
  {
   "cell_type": "markdown",
   "id": "93f47199",
   "metadata": {},
   "source": [
    "# Case Study Evaluation\n",
    "\n",
    "This Jupyter notebook emphasizes the evaluation of the methodology applied to the case study. It encompasses the code for data sampling, manual feature extraction, and comparison between manual and automated feature extraction processes by drawing data visualization.\n",
    "\n",
    "1. **Data Sampling:** Sampling reviews that have lower satisfaction ratings. This is done by setting a threshold at the 10th percentile of ratings and only picking reviews below this threshold. To make analysis more manageable, this study take a random sample that is just 1% of these lower-rated reviews.\n",
    "\n",
    "2. **Ranking Comparison:** Comparing rankings created by running the model with manually prcocessed rankings using the Spearman rank-order correlation coefficient to see how similar they are. Draw the comparison in a data visualization in a clear picture of how well the model's rankings align with the manual rankings."
   ]
  },
  {
   "cell_type": "markdown",
   "id": "5acae8c3",
   "metadata": {},
   "source": [
    "## Data Sampling"
   ]
  },
  {
   "cell_type": "code",
   "execution_count": 1,
   "id": "e4431ab4",
   "metadata": {},
   "outputs": [],
   "source": [
    "import pandas as pd\n",
    "import numpy as np\n",
    "import matplotlib.pyplot as plt\n",
    "import seaborn as sns"
   ]
  },
  {
   "cell_type": "code",
   "execution_count": 2,
   "id": "c3747502",
   "metadata": {},
   "outputs": [],
   "source": [
    "disney = pd.read_csv(\"DisneylandReviews.csv\", encoding='latin-1')"
   ]
  },
  {
   "cell_type": "code",
   "execution_count": 3,
   "id": "6cd66535",
   "metadata": {},
   "outputs": [
    {
     "name": "stdout",
     "output_type": "stream",
     "text": [
      "<class 'pandas.core.frame.DataFrame'>\n",
      "RangeIndex: 42656 entries, 0 to 42655\n",
      "Data columns (total 6 columns):\n",
      " #   Column             Non-Null Count  Dtype \n",
      "---  ------             --------------  ----- \n",
      " 0   Review_ID          42656 non-null  int64 \n",
      " 1   Rating             42656 non-null  int64 \n",
      " 2   Year_Month         42656 non-null  object\n",
      " 3   Reviewer_Location  42656 non-null  object\n",
      " 4   Review_Text        42656 non-null  object\n",
      " 5   Branch             42656 non-null  object\n",
      "dtypes: int64(2), object(4)\n",
      "memory usage: 2.0+ MB\n"
     ]
    }
   ],
   "source": [
    "disney.info()"
   ]
  },
  {
   "cell_type": "code",
   "execution_count": 14,
   "id": "4bf92bde",
   "metadata": {},
   "outputs": [],
   "source": [
    "# Define the threshold as the 10th percentile of the 'Rating' column in the 'disney' DataFrame\n",
    "threshold = disney['Rating'].quantile(0.1)\n",
    "\n",
    "# Filter the 'disney' DataFrame to only include rows where 'Rating' is less than or equal to the threshold\n",
    "filtered_df = disney[disney['Rating'] <= threshold]\n",
    "\n",
    "# Sample 1% of the rows in 'filtered_df'\n",
    "sampled_df = filtered_df.sample(frac=0.01, random_state=42)"
   ]
  },
  {
   "cell_type": "code",
   "execution_count": 15,
   "id": "61503b4b",
   "metadata": {},
   "outputs": [
    {
     "data": {
      "text/html": [
       "<div>\n",
       "<style scoped>\n",
       "    .dataframe tbody tr th:only-of-type {\n",
       "        vertical-align: middle;\n",
       "    }\n",
       "\n",
       "    .dataframe tbody tr th {\n",
       "        vertical-align: top;\n",
       "    }\n",
       "\n",
       "    .dataframe thead th {\n",
       "        text-align: right;\n",
       "    }\n",
       "</style>\n",
       "<table border=\"1\" class=\"dataframe\">\n",
       "  <thead>\n",
       "    <tr style=\"text-align: right;\">\n",
       "      <th></th>\n",
       "      <th>Review_ID</th>\n",
       "      <th>Rating</th>\n",
       "    </tr>\n",
       "  </thead>\n",
       "  <tbody>\n",
       "    <tr>\n",
       "      <th>count</th>\n",
       "      <td>8.735000e+03</td>\n",
       "      <td>8735.000000</td>\n",
       "    </tr>\n",
       "    <tr>\n",
       "      <th>mean</th>\n",
       "      <td>3.176641e+08</td>\n",
       "      <td>2.413280</td>\n",
       "    </tr>\n",
       "    <tr>\n",
       "      <th>std</th>\n",
       "      <td>1.703170e+08</td>\n",
       "      <td>0.765352</td>\n",
       "    </tr>\n",
       "    <tr>\n",
       "      <th>min</th>\n",
       "      <td>1.534364e+06</td>\n",
       "      <td>1.000000</td>\n",
       "    </tr>\n",
       "    <tr>\n",
       "      <th>25%</th>\n",
       "      <td>1.714189e+08</td>\n",
       "      <td>2.000000</td>\n",
       "    </tr>\n",
       "    <tr>\n",
       "      <th>50%</th>\n",
       "      <td>2.866799e+08</td>\n",
       "      <td>3.000000</td>\n",
       "    </tr>\n",
       "    <tr>\n",
       "      <th>75%</th>\n",
       "      <td>4.524593e+08</td>\n",
       "      <td>3.000000</td>\n",
       "    </tr>\n",
       "    <tr>\n",
       "      <th>max</th>\n",
       "      <td>6.705919e+08</td>\n",
       "      <td>3.000000</td>\n",
       "    </tr>\n",
       "  </tbody>\n",
       "</table>\n",
       "</div>"
      ],
      "text/plain": [
       "          Review_ID       Rating\n",
       "count  8.735000e+03  8735.000000\n",
       "mean   3.176641e+08     2.413280\n",
       "std    1.703170e+08     0.765352\n",
       "min    1.534364e+06     1.000000\n",
       "25%    1.714189e+08     2.000000\n",
       "50%    2.866799e+08     3.000000\n",
       "75%    4.524593e+08     3.000000\n",
       "max    6.705919e+08     3.000000"
      ]
     },
     "execution_count": 15,
     "metadata": {},
     "output_type": "execute_result"
    }
   ],
   "source": [
    "filtered_df.describe()"
   ]
  },
  {
   "cell_type": "code",
   "execution_count": 16,
   "id": "5ff70e97",
   "metadata": {},
   "outputs": [
    {
     "data": {
      "text/html": [
       "<div>\n",
       "<style scoped>\n",
       "    .dataframe tbody tr th:only-of-type {\n",
       "        vertical-align: middle;\n",
       "    }\n",
       "\n",
       "    .dataframe tbody tr th {\n",
       "        vertical-align: top;\n",
       "    }\n",
       "\n",
       "    .dataframe thead th {\n",
       "        text-align: right;\n",
       "    }\n",
       "</style>\n",
       "<table border=\"1\" class=\"dataframe\">\n",
       "  <thead>\n",
       "    <tr style=\"text-align: right;\">\n",
       "      <th></th>\n",
       "      <th>Review_ID</th>\n",
       "      <th>Rating</th>\n",
       "    </tr>\n",
       "  </thead>\n",
       "  <tbody>\n",
       "    <tr>\n",
       "      <th>count</th>\n",
       "      <td>8.700000e+01</td>\n",
       "      <td>87.000000</td>\n",
       "    </tr>\n",
       "    <tr>\n",
       "      <th>mean</th>\n",
       "      <td>3.385435e+08</td>\n",
       "      <td>2.436782</td>\n",
       "    </tr>\n",
       "    <tr>\n",
       "      <th>std</th>\n",
       "      <td>1.758834e+08</td>\n",
       "      <td>0.788008</td>\n",
       "    </tr>\n",
       "    <tr>\n",
       "      <th>min</th>\n",
       "      <td>2.228738e+06</td>\n",
       "      <td>1.000000</td>\n",
       "    </tr>\n",
       "    <tr>\n",
       "      <th>25%</th>\n",
       "      <td>1.893364e+08</td>\n",
       "      <td>2.000000</td>\n",
       "    </tr>\n",
       "    <tr>\n",
       "      <th>50%</th>\n",
       "      <td>3.162165e+08</td>\n",
       "      <td>3.000000</td>\n",
       "    </tr>\n",
       "    <tr>\n",
       "      <th>75%</th>\n",
       "      <td>4.919931e+08</td>\n",
       "      <td>3.000000</td>\n",
       "    </tr>\n",
       "    <tr>\n",
       "      <th>max</th>\n",
       "      <td>6.663334e+08</td>\n",
       "      <td>3.000000</td>\n",
       "    </tr>\n",
       "  </tbody>\n",
       "</table>\n",
       "</div>"
      ],
      "text/plain": [
       "          Review_ID     Rating\n",
       "count  8.700000e+01  87.000000\n",
       "mean   3.385435e+08   2.436782\n",
       "std    1.758834e+08   0.788008\n",
       "min    2.228738e+06   1.000000\n",
       "25%    1.893364e+08   2.000000\n",
       "50%    3.162165e+08   3.000000\n",
       "75%    4.919931e+08   3.000000\n",
       "max    6.663334e+08   3.000000"
      ]
     },
     "execution_count": 16,
     "metadata": {},
     "output_type": "execute_result"
    }
   ],
   "source": [
    "sampled_df.describe()"
   ]
  },
  {
   "cell_type": "code",
   "execution_count": 17,
   "id": "fba8a927",
   "metadata": {},
   "outputs": [],
   "source": [
    "sampled_df.to_csv('sampled_data.csv', index=False)"
   ]
  },
  {
   "cell_type": "markdown",
   "id": "5825bf34",
   "metadata": {},
   "source": [
    "## Ranking Comparison"
   ]
  },
  {
   "cell_type": "code",
   "execution_count": 6,
   "id": "e08402bb",
   "metadata": {},
   "outputs": [],
   "source": [
    "# Queue/Waiting 38\n",
    "# Price 28\n",
    "# Park Attractions 21\n",
    "# Crowdness 20\n",
    "# Food 20\n",
    "# Staff/Service 19\n",
    "# Entertainment 13\n",
    "# Accommodation 3\n",
    "# Transportation 1"
   ]
  },
  {
   "cell_type": "code",
   "execution_count": 5,
   "id": "1ac1b858",
   "metadata": {},
   "outputs": [
    {
     "name": "stdout",
     "output_type": "stream",
     "text": [
      "Spearman correlation: 0.26666666666666666\n"
     ]
    }
   ],
   "source": [
    "from scipy.stats import spearmanr\n",
    "\n",
    "# Lists of rankings (rank 1: manual process / rank 2: model process)\n",
    "rank1 = ['Queue/Waiting', 'Price', 'Park Attractions', 'Crowdness', 'Food','Staff/Service', 'Entertainment', 'Accommodation','Transportation']\n",
    "rank2 = ['Queue/Waiting', 'Price', 'Transportation', 'Entertainment', 'Crowdness', 'Food', 'Accommodation', 'Staff/Service', 'Park Attractions']\n",
    "\n",
    "# Convert the lists to ranking numbers\n",
    "rank1_num = [rank1.index(i)+1 for i in rank1]\n",
    "rank2_num = [rank2.index(i)+1 for i in rank1]\n",
    "\n",
    "# Calculate Spearman rank-order correlation coefficient\n",
    "rho = spearmanr(rank1_num, rank2_num).correlation\n",
    "\n",
    "print(f'Spearman correlation: {rho}')"
   ]
  },
  {
   "cell_type": "code",
   "execution_count": 7,
   "id": "be10db21",
   "metadata": {},
   "outputs": [
    {
     "data": {
      "image/png": "[encoded data removed]",
      "text/plain": [
       "<Figure size 720x432 with 1 Axes>"
      ]
     },
     "metadata": {
      "needs_background": "light"
     },
     "output_type": "display_data"
    }
   ],
   "source": [
    "# Import necessary libraries\n",
    "import matplotlib.pyplot as plt\n",
    "import numpy as np\n",
    "\n",
    "# Create an array for the positions\n",
    "ind = np.arange(len(rank2))\n",
    "\n",
    "# Define the width of the bars\n",
    "width = 0.4\n",
    "\n",
    "# Adjust rank1_num to match the order of rank2\n",
    "rank1_num_sorted = [rank1_num[rank1.index(i)] for i in rank2]\n",
    "\n",
    "# Create a larger figure\n",
    "fig, ax = plt.subplots(figsize=(10, 6))  # Adjust figure size here\n",
    "\n",
    "# Create bar plots\n",
    "bar1 = ax.bar(ind - width/2, rank1_num_sorted, width, label='Manual Process')\n",
    "bar2 = ax.bar(ind + width/2, ind+1, width, label='Model Process')\n",
    "\n",
    "# Add some text for labels, title and custom x-axis tick labels, etc.\n",
    "ax.set_xlabel('Feature', fontsize=14)  \n",
    "ax.set_ylabel('Rank', fontsize=14)  \n",
    "ax.set_title('Comparison of Feature Ranks', fontsize=16)  \n",
    "ax.set_xticks(ind)\n",
    "ax.set_xticklabels(rank2, rotation=90, fontsize=12)  \n",
    "ax.legend()\n",
    "\n",
    "# Show the plot\n",
    "plt.show()"
   ]
  }
 ],
 "metadata": {
  "kernelspec": {
   "display_name": "Python 3 (ipykernel)",
   "language": "python",
   "name": "python3"
  },
  "language_info": {
   "codemirror_mode": {
    "name": "ipython",
    "version": 3
   },
   "file_extension": ".py",
   "mimetype": "text/x-python",
   "name": "python",
   "nbconvert_exporter": "python",
   "pygments_lexer": "ipython3",
   "version": "3.7.13"
  }
 },
 "nbformat": 4,
 "nbformat_minor": 5
}
